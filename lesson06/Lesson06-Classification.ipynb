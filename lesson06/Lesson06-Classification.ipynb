{
 "cells": [
  {
   "cell_type": "markdown",
   "metadata": {
    "slideshow": {
     "slide_type": "slide"
    }
   },
   "source": [
    "# Lesson 6: Classification\n",
    "\n",
    "Today:\n",
    "1. Classification\n",
    "    + Classification vs. Regression\n",
    "    + Examples of classification tasks\n",
    "    + Hands-on example: cancer data\n",
    "        + Explore and visualize the training data\n",
    "        + Brainstorm a simple classification model\n",
    "2. Decision Trees\n",
    "3. Boolean Variables, Operations, and Expressions"
   ]
  },
  {
   "cell_type": "markdown",
   "metadata": {
    "slideshow": {
     "slide_type": "slide"
    }
   },
   "source": [
    "### Example: Cancer Detection\n",
    "\n",
    "Question: Is this tumor benign or malignant (cancerous) ?\n",
    "\n",
    "We are given a labelled dataset:\n",
    "+ Each **observation** corresponds to a **tumor** detected in a patient\n",
    "+ Has several columns consisting of attributes/information about the tumor\n",
    "+ Has a column called `Class`:\n",
    "    + 0 indicates that the lump is not cancer\n",
    "    + 1 indicates that the lump is cancer"
   ]
  },
  {
   "cell_type": "markdown",
   "metadata": {
    "slideshow": {
     "slide_type": "fragment"
    }
   },
   "source": [
    "Our goal today:\n",
    "+ Split the dataset into training and test data\n",
    "+ Explore and visualize the training data\n",
    "+ Brainstorm a classification model"
   ]
  },
  {
   "cell_type": "code",
   "execution_count": null,
   "metadata": {},
   "outputs": [],
   "source": [
    "\n",
    "\n"
   ]
  },
  {
   "cell_type": "code",
   "execution_count": null,
   "metadata": {
    "slideshow": {
     "slide_type": "fragment"
    }
   },
   "outputs": [],
   "source": [
    "cancerdata = pd.read_csv('../../shared/datasets/cancer.csv')\n"
   ]
  },
  {
   "cell_type": "code",
   "execution_count": null,
   "metadata": {},
   "outputs": [],
   "source": []
  },
  {
   "cell_type": "code",
   "execution_count": null,
   "metadata": {},
   "outputs": [],
   "source": []
  },
  {
   "cell_type": "markdown",
   "metadata": {},
   "source": [
    "Remarks:\n",
    "+ Unlike with linear regression, we cannot fit a straight line to predict the y value based on the x value!\n",
    "+ We need a new model / a new way of thinking about this prediction question"
   ]
  },
  {
   "cell_type": "code",
   "execution_count": null,
   "metadata": {},
   "outputs": [],
   "source": [
    "\n",
    "\n"
   ]
  },
  {
   "cell_type": "code",
   "execution_count": null,
   "metadata": {},
   "outputs": [],
   "source": []
  },
  {
   "cell_type": "code",
   "execution_count": null,
   "metadata": {},
   "outputs": [],
   "source": []
  },
  {
   "cell_type": "code",
   "execution_count": null,
   "metadata": {},
   "outputs": [],
   "source": []
  },
  {
   "cell_type": "code",
   "execution_count": null,
   "metadata": {},
   "outputs": [],
   "source": []
  },
  {
   "cell_type": "code",
   "execution_count": null,
   "metadata": {},
   "outputs": [],
   "source": []
  }
 ],
 "metadata": {
  "kernelspec": {
   "display_name": "Python 3",
   "language": "python",
   "name": "python3"
  },
  "language_info": {
   "codemirror_mode": {
    "name": "ipython",
    "version": 3
   },
   "file_extension": ".py",
   "mimetype": "text/x-python",
   "name": "python",
   "nbconvert_exporter": "python",
   "pygments_lexer": "ipython3",
   "version": "3.7.6"
  }
 },
 "nbformat": 4,
 "nbformat_minor": 2
}
