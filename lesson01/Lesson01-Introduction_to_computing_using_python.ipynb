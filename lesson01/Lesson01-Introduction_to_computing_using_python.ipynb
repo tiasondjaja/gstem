{
 "cells": [
  {
   "cell_type": "markdown",
   "metadata": {
    "slideshow": {
     "slide_type": "-"
    }
   },
   "source": [
    "# Lesson 2: Introduction to Computing Using R\n",
    "\n",
    "**Goals & Key Ideas:**\n",
    "1. Working with Jupyter Notebooks\n",
    "2. Computing and arithmetic in R\n",
    "3. Working with \"names\"\n",
    "4. Types of Data\n",
    "5. Functions\n",
    "6. Lists"
   ]
  },
  {
   "cell_type": "markdown",
   "metadata": {
    "slideshow": {
     "slide_type": "-"
    }
   },
   "source": [
    "## 1. Working with Jupyter Notebooks\n",
    "\n",
    "A Jupyter Notebook is a type of document that can be used for both writing text (like a Word document) and writing codes"
   ]
  },
  {
   "cell_type": "markdown",
   "metadata": {
    "slideshow": {
     "slide_type": "-"
    }
   },
   "source": [
    "A Jupyter Notebook consists of **cells** (places to enter our texts or codes)"
   ]
  },
  {
   "cell_type": "markdown",
   "metadata": {
    "slideshow": {
     "slide_type": "-"
    }
   },
   "source": [
    "There are two main types of cells:\n",
    "+ **Markdown cells\"**: for writing texts\n",
    "+ **Code cells**: for writing codes"
   ]
  },
  {
   "cell_type": "markdown",
   "metadata": {
    "slideshow": {
     "slide_type": "-"
    }
   },
   "source": [
    "To run a code in a current cell, we press Shift + Enter"
   ]
  },
  {
   "cell_type": "markdown",
   "metadata": {
    "slideshow": {
     "slide_type": "-"
    }
   },
   "source": [
    "## Demonstration\n",
    "\n",
    "During each class, please follow along by modifying or filling out texts/codes in the notebook.\n",
    "\n",
    "+ **To get a copy where your own notes and changes can be saved**\n",
    "    + Go to our NYU Classes site > Lessons\n",
    "    + Go to the Lesson page for the day's topic\n",
    "    + Click on the Jupyter notebook link\n",
    "    + Your copy of the notebook will be created in your Jupyter Hub, stored under the `coreua111-class_notebooks' folder\n",
    "    + You are strongly encouraged to fill in the blanks and to add your own notes there\n",
    "    + If you click on the above Jupyter notebook link again, your changes and any further changes I make on my copy will be merged.\n",
    "+ **To get a reference copy (read only)**\n",
    "    + Go to our JupyterHub\n",
    "    + Go to the `shared` folder\n",
    "    + go to the `class_notebooks` subfolder\n",
    "    + After class, a filled out copy of the Jupyter notebook will be available there.  This copy is read-only; your notes/changes will not be saved.\n",
    "\n",
    "(Sometimes, the lecture slides might be a pdf file or a set of Google presentation slides, accompanied by Jupyter notebooks for demonstrations.  We will switch back and forth between the slides and the Jupyter notebook.)"
   ]
  },
  {
   "cell_type": "markdown",
   "metadata": {
    "slideshow": {
     "slide_type": "-"
    }
   },
   "source": [
    "# 2. Computing and arithmetic in R\n",
    "\n",
    "We can do basic computations in R, such as adding, subtracting, multiplying, and dividing numbers"
   ]
  },
  {
   "cell_type": "code",
   "execution_count": null,
   "metadata": {},
   "outputs": [],
   "source": []
  },
  {
   "cell_type": "code",
   "execution_count": null,
   "metadata": {
    "slideshow": {
     "slide_type": "-"
    }
   },
   "outputs": [],
   "source": [
    "\n",
    "\n"
   ]
  },
  {
   "cell_type": "markdown",
   "metadata": {},
   "source": [
    "# 3. Working with \"names\""
   ]
  },
  {
   "cell_type": "code",
   "execution_count": null,
   "metadata": {},
   "outputs": [],
   "source": []
  },
  {
   "cell_type": "code",
   "execution_count": null,
   "metadata": {},
   "outputs": [],
   "source": []
  },
  {
   "cell_type": "code",
   "execution_count": null,
   "metadata": {},
   "outputs": [],
   "source": []
  },
  {
   "cell_type": "code",
   "execution_count": 1,
   "metadata": {},
   "outputs": [],
   "source": [
    "# There is a file called studentsurvey.csv in the folder where this jupyter notebook file is located\n",
    "# We load this file\n",
    "\n",
    "studentsurvey <-   read.csv('studentsurvey.csv')\n",
    "\n",
    "# For now, the main thing to keep in mind is that we are giving a name to a data table \n",
    "#  so that we can easily refer to it and display it\n",
    "\n",
    "# When you type the name of the table and run the code, R displays the contents of the table\n",
    "\n"
   ]
  },
  {
   "cell_type": "code",
   "execution_count": 2,
   "metadata": {},
   "outputs": [
    {
     "data": {
      "text/html": [
       "<table>\n",
       "<thead><tr><th scope=col>NYU_School</th><th scope=col>NYU_Year</th><th scope=col>Num_semesters_completed</th><th scope=col>Height_inches</th><th scope=col>Fave_ice_cream_flavor</th><th scope=col>On_campus</th></tr></thead>\n",
       "<tbody>\n",
       "\t<tr><td>Steinhardt                         </td><td>Senior                             </td><td>7                                  </td><td>66.00                              </td><td>Chocolate                          </td><td>FALSE                              </td></tr>\n",
       "\t<tr><td>CAS                                </td><td>Junior                             </td><td>0                                  </td><td>65.00                              </td><td>Matcha                             </td><td>FALSE                              </td></tr>\n",
       "\t<tr><td>Steinhardt                         </td><td>First-year                         </td><td>0                                  </td><td>72.00                              </td><td>caramel cone                       </td><td> TRUE                              </td></tr>\n",
       "\t<tr><td>CAS                                </td><td>Sophomore                          </td><td>0                                  </td><td>63.00                              </td><td>Cotton candy                       </td><td>FALSE                              </td></tr>\n",
       "\t<tr><td>Steinhardt                         </td><td>First-year                         </td><td>0                                  </td><td>67.00                              </td><td>Strawberry                         </td><td> TRUE                              </td></tr>\n",
       "\t<tr><td>Steinhardt                         </td><td>Sophomore                          </td><td>2                                  </td><td> 5.20                              </td><td>Mint Chocolate Chip                </td><td>FALSE                              </td></tr>\n",
       "\t<tr><td>Steinhardt                         </td><td>First-year                         </td><td>0                                  </td><td>71.00                              </td><td>Mint Chocolate Chip                </td><td> TRUE                              </td></tr>\n",
       "\t<tr><td>CAS                                </td><td>First-year                         </td><td>0                                  </td><td>71.00                              </td><td>original                           </td><td> TRUE                              </td></tr>\n",
       "\t<tr><td>Steinhardt                         </td><td>Sophomore                          </td><td>0                                  </td><td>62.00                              </td><td>Strawberry                         </td><td>FALSE                              </td></tr>\n",
       "\t<tr><td>Steinhardt                         </td><td>First-year                         </td><td>0                                  </td><td>62.00                              </td><td>Mint Chocolate Chip :)             </td><td>FALSE                              </td></tr>\n",
       "\t<tr><td><span style=white-space:pre-wrap>Steinhardt     </span>                        </td><td><span style=white-space:pre-wrap>Junior    </span>                             </td><td>4                                                                              </td><td>63.00                                                                          </td><td><span style=white-space:pre-wrap>Ben &amp; Jerry's Americone Dream      </span></td><td>FALSE                                                                          </td></tr>\n",
       "\t<tr><td>Steinhardt                         </td><td>First-year                         </td><td>0                                  </td><td> 5.41                              </td><td>lemon                              </td><td>FALSE                              </td></tr>\n",
       "\t<tr><td>Steinhardt                         </td><td>Sophomore                          </td><td>0                                  </td><td>63.00                              </td><td>Mint chocolate chip                </td><td>FALSE                              </td></tr>\n",
       "\t<tr><td>CAS                                </td><td>First-year                         </td><td>0                                  </td><td>67.00                              </td><td>Mocha (anything Coffee + Chocolate)</td><td> TRUE                              </td></tr>\n",
       "\t<tr><td>CAS                                </td><td>Sophomore                          </td><td>0                                  </td><td>66.00                              </td><td>Chocolate Chip Cookie Dough        </td><td>FALSE                              </td></tr>\n",
       "\t<tr><td>Steinhardt                         </td><td>First-year                         </td><td>0                                  </td><td>70.00                              </td><td>Chocolate Chip Cookie Dough        </td><td>FALSE                              </td></tr>\n",
       "\t<tr><td>Steinhardt                         </td><td>First-year                         </td><td>0                                  </td><td>68.00                              </td><td>vanilla and chocolate              </td><td> TRUE                              </td></tr>\n",
       "\t<tr><td>CAS                                </td><td>Junior                             </td><td>4                                  </td><td>67.00                              </td><td>cookie dough                       </td><td>FALSE                              </td></tr>\n",
       "\t<tr><td>Steinhardt                         </td><td>Junior                             </td><td>4                                  </td><td>72.00                              </td><td>salted caramel                     </td><td>FALSE                              </td></tr>\n",
       "\t<tr><td>CAS                                </td><td>Sophomore                          </td><td>2                                  </td><td>66.00                              </td><td>lychee                             </td><td>FALSE                              </td></tr>\n",
       "\t<tr><td>Liberal Studies                    </td><td>Sophomore                          </td><td>2                                  </td><td>69.00                              </td><td>cookies and cream                  </td><td>FALSE                              </td></tr>\n",
       "\t<tr><td>Steinhardt                         </td><td>First-year                         </td><td>0                                  </td><td>71.00                              </td><td>Mint Chip                          </td><td> TRUE                              </td></tr>\n",
       "\t<tr><td>Steinhardt                         </td><td>First-year                         </td><td>0                                  </td><td>63.00                              </td><td>Chocolate Chip Cookie Dough        </td><td> TRUE                              </td></tr>\n",
       "\t<tr><td>CAS                                </td><td>First-year                         </td><td>0                                  </td><td>71.00                              </td><td>Vanilla                            </td><td> TRUE                              </td></tr>\n",
       "\t<tr><td>CAS                                </td><td>First-year                         </td><td>0                                  </td><td>66.00                              </td><td>Oreo                               </td><td> TRUE                              </td></tr>\n",
       "\t<tr><td>Steinhardt                         </td><td>First-year                         </td><td>0                                  </td><td>62.00                              </td><td>Cookie Dough                       </td><td> TRUE                              </td></tr>\n",
       "\t<tr><td>Steinhardt                         </td><td>Sophomore                          </td><td>2                                  </td><td>67.00                              </td><td>Cake Batter                        </td><td>FALSE                              </td></tr>\n",
       "\t<tr><td>Steinhardt                         </td><td>Junior                             </td><td>4                                  </td><td> 5.20                              </td><td>Cotton Candy                       </td><td> TRUE                              </td></tr>\n",
       "\t<tr><td>Steinhardt                         </td><td>Sophomore                          </td><td>2                                  </td><td>66.00                              </td><td>Haagen-dazs Caramel Cone           </td><td>FALSE                              </td></tr>\n",
       "\t<tr><td>CAS                                </td><td>First-year                         </td><td>0                                  </td><td> 5.70                              </td><td>Cookies n Cream                    </td><td>FALSE                              </td></tr>\n",
       "\t<tr><td>...</td><td>...</td><td>...</td><td>...</td><td>...</td><td>...</td></tr>\n",
       "\t<tr><td>CAS                                </td><td>First-year                         </td><td>0.0                                </td><td> 63.000                            </td><td>Mint Chocolate Chip                </td><td>FALSE                              </td></tr>\n",
       "\t<tr><td>CAS                                </td><td>Junior                             </td><td>0.0                                </td><td> 69.000                            </td><td>The Tonight Dough                  </td><td>FALSE                              </td></tr>\n",
       "\t<tr><td>CAS                                </td><td>Junior                             </td><td>0.0                                </td><td> 78.000                            </td><td>Vanilla                            </td><td>FALSE                              </td></tr>\n",
       "\t<tr><td>Steinhardt                         </td><td>First-year                         </td><td>2.0                                </td><td> 65.748                            </td><td>chocolate                          </td><td>FALSE                              </td></tr>\n",
       "\t<tr><td>Steinhardt                         </td><td>First-year                         </td><td>0.0                                </td><td> 62.000                            </td><td>Cookie dough                       </td><td> TRUE                              </td></tr>\n",
       "\t<tr><td>Steinhardt                         </td><td>Sophomore                          </td><td>0.0                                </td><td> 73.000                            </td><td>Strawberry                         </td><td>FALSE                              </td></tr>\n",
       "\t<tr><td>CAS                                </td><td>Junior                             </td><td>4.0                                </td><td> 69.000                            </td><td>Chocolate!!                        </td><td> TRUE                              </td></tr>\n",
       "\t<tr><td>Steinhardt                         </td><td>Junior                             </td><td>4.0                                </td><td> 68.000                            </td><td>Oreo                               </td><td>FALSE                              </td></tr>\n",
       "\t<tr><td>Steinhardt                         </td><td>First-year                         </td><td>0.0                                </td><td> 64.000                            </td><td>Cookies and cream                  </td><td> TRUE                              </td></tr>\n",
       "\t<tr><td>Steinhardt                         </td><td>Junior                             </td><td>4.0                                </td><td> 64.000                            </td><td>chocolate                          </td><td>FALSE                              </td></tr>\n",
       "\t<tr><td>Steinhardt                         </td><td>Sophomore                          </td><td>0.0                                </td><td> 66.000                            </td><td>cookie and cream                   </td><td>FALSE                              </td></tr>\n",
       "\t<tr><td>Steinhardt                         </td><td>First-year                         </td><td>0.0                                </td><td> 71.000                            </td><td>Vanilla                            </td><td> TRUE                              </td></tr>\n",
       "\t<tr><td><span style=white-space:pre-wrap>Steinhardt     </span></td><td>First-year                                             </td><td>0.0                                                    </td><td> 67.300                                                </td><td>Strawberry / Vanilla / Cookie&amp;cream                </td><td>FALSE                                                  </td></tr>\n",
       "\t<tr><td>CAS                                </td><td>Sophomore                          </td><td>0.0                                </td><td> 67.000                            </td><td>Talenti Souther Butter Pecan       </td><td>FALSE                              </td></tr>\n",
       "\t<tr><td>CAS                                </td><td>Sophomore                          </td><td>2.0                                </td><td> 66.000                            </td><td>Vanilla                            </td><td>FALSE                              </td></tr>\n",
       "\t<tr><td>CAS                                </td><td>Senior                             </td><td>6.0                                </td><td> 71.000                            </td><td>Ben and Jerrys phish food          </td><td>FALSE                              </td></tr>\n",
       "\t<tr><td>CAS                                </td><td>Sophomore                          </td><td>2.0                                </td><td>168.000                            </td><td>pink                               </td><td>FALSE                              </td></tr>\n",
       "\t<tr><td>Steinhardt                         </td><td>Sophomore                          </td><td>2.0                                </td><td> 68.000                            </td><td>cookie dough                       </td><td>FALSE                              </td></tr>\n",
       "\t<tr><td>Liberal Studies                    </td><td>Sophomore                          </td><td>2.0                                </td><td> 72.000                            </td><td>vanilla                            </td><td>FALSE                              </td></tr>\n",
       "\t<tr><td>Steinhardt                         </td><td>Sophomore                          </td><td>1.5                                </td><td> 67.000                            </td><td>Cookies and Cream                  </td><td>FALSE                              </td></tr>\n",
       "\t<tr><td>CAS                                </td><td>First-year                         </td><td>0.0                                </td><td> 63.000                            </td><td>vanilla                            </td><td>FALSE                              </td></tr>\n",
       "\t<tr><td>Tisch                              </td><td>Senior                             </td><td>7.0                                </td><td> 74.000                            </td><td>Mint Chocolate Chip                </td><td>FALSE                              </td></tr>\n",
       "\t<tr><td>Steinhardt                         </td><td>Senior                             </td><td>6.0                                </td><td> 67.000                            </td><td>chocolate                          </td><td> TRUE                              </td></tr>\n",
       "\t<tr><td>CAS                                </td><td>First-year                         </td><td>0.0                                </td><td> 63.000                            </td><td>chocolate soft serve               </td><td> TRUE                              </td></tr>\n",
       "\t<tr><td>Steinhardt                         </td><td>Junior                             </td><td>4.0                                </td><td> 63.000                            </td><td>Lemon Sorbet                       </td><td>FALSE                              </td></tr>\n",
       "\t<tr><td>Tisch                              </td><td>First-year                         </td><td>0.0                                </td><td> 72.000                            </td><td>matcha green tea                   </td><td>FALSE                              </td></tr>\n",
       "\t<tr><td>Steinhardt                         </td><td>First-year                         </td><td>0.0                                </td><td> 72.000                            </td><td>Cookie dough                       </td><td> TRUE                              </td></tr>\n",
       "\t<tr><td>CAS                                </td><td>First-year                         </td><td>0.0                                </td><td> 66.000                            </td><td>Birthday Cake                      </td><td> TRUE                              </td></tr>\n",
       "\t<tr><td>CAS                                </td><td>Junior                             </td><td>1.0                                </td><td> 71.000                            </td><td>Cookie dough                       </td><td>FALSE                              </td></tr>\n",
       "\t<tr><td>CAS                                </td><td>First-year                         </td><td>0.0                                </td><td> 63.000                            </td><td>Chocolate                          </td><td>FALSE                              </td></tr>\n",
       "</tbody>\n",
       "</table>\n"
      ],
      "text/latex": [
       "\\begin{tabular}{r|llllll}\n",
       " NYU\\_School & NYU\\_Year & Num\\_semesters\\_completed & Height\\_inches & Fave\\_ice\\_cream\\_flavor & On\\_campus\\\\\n",
       "\\hline\n",
       "\t Steinhardt                          & Senior                              & 7                                   & 66.00                               & Chocolate                           & FALSE                              \\\\\n",
       "\t CAS                                 & Junior                              & 0                                   & 65.00                               & Matcha                              & FALSE                              \\\\\n",
       "\t Steinhardt                          & First-year                          & 0                                   & 72.00                               & caramel cone                        &  TRUE                              \\\\\n",
       "\t CAS                                 & Sophomore                           & 0                                   & 63.00                               & Cotton candy                        & FALSE                              \\\\\n",
       "\t Steinhardt                          & First-year                          & 0                                   & 67.00                               & Strawberry                          &  TRUE                              \\\\\n",
       "\t Steinhardt                          & Sophomore                           & 2                                   &  5.20                               & Mint Chocolate Chip                 & FALSE                              \\\\\n",
       "\t Steinhardt                          & First-year                          & 0                                   & 71.00                               & Mint Chocolate Chip                 &  TRUE                              \\\\\n",
       "\t CAS                                 & First-year                          & 0                                   & 71.00                               & original                            &  TRUE                              \\\\\n",
       "\t Steinhardt                          & Sophomore                           & 0                                   & 62.00                               & Strawberry                          & FALSE                              \\\\\n",
       "\t Steinhardt                          & First-year                          & 0                                   & 62.00                               & Mint Chocolate Chip :)              & FALSE                              \\\\\n",
       "\t Steinhardt                            & Junior                                & 4                                     & 63.00                                 & Ben \\& Jerry's Americone Dream       & FALSE                                \\\\\n",
       "\t Steinhardt                          & First-year                          & 0                                   &  5.41                               & lemon                               & FALSE                              \\\\\n",
       "\t Steinhardt                          & Sophomore                           & 0                                   & 63.00                               & Mint chocolate chip                 & FALSE                              \\\\\n",
       "\t CAS                                 & First-year                          & 0                                   & 67.00                               & Mocha (anything Coffee + Chocolate) &  TRUE                              \\\\\n",
       "\t CAS                                 & Sophomore                           & 0                                   & 66.00                               & Chocolate Chip Cookie Dough         & FALSE                              \\\\\n",
       "\t Steinhardt                          & First-year                          & 0                                   & 70.00                               & Chocolate Chip Cookie Dough         & FALSE                              \\\\\n",
       "\t Steinhardt                          & First-year                          & 0                                   & 68.00                               & vanilla and chocolate               &  TRUE                              \\\\\n",
       "\t CAS                                 & Junior                              & 4                                   & 67.00                               & cookie dough                        & FALSE                              \\\\\n",
       "\t Steinhardt                          & Junior                              & 4                                   & 72.00                               & salted caramel                      & FALSE                              \\\\\n",
       "\t CAS                                 & Sophomore                           & 2                                   & 66.00                               & lychee                              & FALSE                              \\\\\n",
       "\t Liberal Studies                     & Sophomore                           & 2                                   & 69.00                               & cookies and cream                   & FALSE                              \\\\\n",
       "\t Steinhardt                          & First-year                          & 0                                   & 71.00                               & Mint Chip                           &  TRUE                              \\\\\n",
       "\t Steinhardt                          & First-year                          & 0                                   & 63.00                               & Chocolate Chip Cookie Dough         &  TRUE                              \\\\\n",
       "\t CAS                                 & First-year                          & 0                                   & 71.00                               & Vanilla                             &  TRUE                              \\\\\n",
       "\t CAS                                 & First-year                          & 0                                   & 66.00                               & Oreo                                &  TRUE                              \\\\\n",
       "\t Steinhardt                          & First-year                          & 0                                   & 62.00                               & Cookie Dough                        &  TRUE                              \\\\\n",
       "\t Steinhardt                          & Sophomore                           & 2                                   & 67.00                               & Cake Batter                         & FALSE                              \\\\\n",
       "\t Steinhardt                          & Junior                              & 4                                   &  5.20                               & Cotton Candy                        &  TRUE                              \\\\\n",
       "\t Steinhardt                          & Sophomore                           & 2                                   & 66.00                               & Haagen-dazs Caramel Cone            & FALSE                              \\\\\n",
       "\t CAS                                 & First-year                          & 0                                   &  5.70                               & Cookies n Cream                     & FALSE                              \\\\\n",
       "\t ... & ... & ... & ... & ... & ...\\\\\n",
       "\t CAS                                 & First-year                          & 0.0                                 &  63.000                             & Mint Chocolate Chip                 & FALSE                              \\\\\n",
       "\t CAS                                 & Junior                              & 0.0                                 &  69.000                             & The Tonight Dough                   & FALSE                              \\\\\n",
       "\t CAS                                 & Junior                              & 0.0                                 &  78.000                             & Vanilla                             & FALSE                              \\\\\n",
       "\t Steinhardt                          & First-year                          & 2.0                                 &  65.748                             & chocolate                           & FALSE                              \\\\\n",
       "\t Steinhardt                          & First-year                          & 0.0                                 &  62.000                             & Cookie dough                        &  TRUE                              \\\\\n",
       "\t Steinhardt                          & Sophomore                           & 0.0                                 &  73.000                             & Strawberry                          & FALSE                              \\\\\n",
       "\t CAS                                 & Junior                              & 4.0                                 &  69.000                             & Chocolate!!                         &  TRUE                              \\\\\n",
       "\t Steinhardt                          & Junior                              & 4.0                                 &  68.000                             & Oreo                                & FALSE                              \\\\\n",
       "\t Steinhardt                          & First-year                          & 0.0                                 &  64.000                             & Cookies and cream                   &  TRUE                              \\\\\n",
       "\t Steinhardt                          & Junior                              & 4.0                                 &  64.000                             & chocolate                           & FALSE                              \\\\\n",
       "\t Steinhardt                          & Sophomore                           & 0.0                                 &  66.000                             & cookie and cream                    & FALSE                              \\\\\n",
       "\t Steinhardt                          & First-year                          & 0.0                                 &  71.000                             & Vanilla                             &  TRUE                              \\\\\n",
       "\t Steinhardt                            & First-year                            & 0.0                                   &  67.300                               & Strawberry / Vanilla / Cookie\\&cream & FALSE                                \\\\\n",
       "\t CAS                                 & Sophomore                           & 0.0                                 &  67.000                             & Talenti Souther Butter Pecan        & FALSE                              \\\\\n",
       "\t CAS                                 & Sophomore                           & 2.0                                 &  66.000                             & Vanilla                             & FALSE                              \\\\\n",
       "\t CAS                                 & Senior                              & 6.0                                 &  71.000                             & Ben and Jerrys phish food           & FALSE                              \\\\\n",
       "\t CAS                                 & Sophomore                           & 2.0                                 & 168.000                             & pink                                & FALSE                              \\\\\n",
       "\t Steinhardt                          & Sophomore                           & 2.0                                 &  68.000                             & cookie dough                        & FALSE                              \\\\\n",
       "\t Liberal Studies                     & Sophomore                           & 2.0                                 &  72.000                             & vanilla                             & FALSE                              \\\\\n",
       "\t Steinhardt                          & Sophomore                           & 1.5                                 &  67.000                             & Cookies and Cream                   & FALSE                              \\\\\n",
       "\t CAS                                 & First-year                          & 0.0                                 &  63.000                             & vanilla                             & FALSE                              \\\\\n",
       "\t Tisch                               & Senior                              & 7.0                                 &  74.000                             & Mint Chocolate Chip                 & FALSE                              \\\\\n",
       "\t Steinhardt                          & Senior                              & 6.0                                 &  67.000                             & chocolate                           &  TRUE                              \\\\\n",
       "\t CAS                                 & First-year                          & 0.0                                 &  63.000                             & chocolate soft serve                &  TRUE                              \\\\\n",
       "\t Steinhardt                          & Junior                              & 4.0                                 &  63.000                             & Lemon Sorbet                        & FALSE                              \\\\\n",
       "\t Tisch                               & First-year                          & 0.0                                 &  72.000                             & matcha green tea                    & FALSE                              \\\\\n",
       "\t Steinhardt                          & First-year                          & 0.0                                 &  72.000                             & Cookie dough                        &  TRUE                              \\\\\n",
       "\t CAS                                 & First-year                          & 0.0                                 &  66.000                             & Birthday Cake                       &  TRUE                              \\\\\n",
       "\t CAS                                 & Junior                              & 1.0                                 &  71.000                             & Cookie dough                        & FALSE                              \\\\\n",
       "\t CAS                                 & First-year                          & 0.0                                 &  63.000                             & Chocolate                           & FALSE                              \\\\\n",
       "\\end{tabular}\n"
      ],
      "text/markdown": [
       "\n",
       "| NYU_School | NYU_Year | Num_semesters_completed | Height_inches | Fave_ice_cream_flavor | On_campus |\n",
       "|---|---|---|---|---|---|\n",
       "| Steinhardt                          | Senior                              | 7                                   | 66.00                               | Chocolate                           | FALSE                               |\n",
       "| CAS                                 | Junior                              | 0                                   | 65.00                               | Matcha                              | FALSE                               |\n",
       "| Steinhardt                          | First-year                          | 0                                   | 72.00                               | caramel cone                        |  TRUE                               |\n",
       "| CAS                                 | Sophomore                           | 0                                   | 63.00                               | Cotton candy                        | FALSE                               |\n",
       "| Steinhardt                          | First-year                          | 0                                   | 67.00                               | Strawberry                          |  TRUE                               |\n",
       "| Steinhardt                          | Sophomore                           | 2                                   |  5.20                               | Mint Chocolate Chip                 | FALSE                               |\n",
       "| Steinhardt                          | First-year                          | 0                                   | 71.00                               | Mint Chocolate Chip                 |  TRUE                               |\n",
       "| CAS                                 | First-year                          | 0                                   | 71.00                               | original                            |  TRUE                               |\n",
       "| Steinhardt                          | Sophomore                           | 0                                   | 62.00                               | Strawberry                          | FALSE                               |\n",
       "| Steinhardt                          | First-year                          | 0                                   | 62.00                               | Mint Chocolate Chip :)              | FALSE                               |\n",
       "| Steinhardt                          | Junior                              | 4                                   | 63.00                               | Ben & Jerry's Americone Dream       | FALSE                               |\n",
       "| Steinhardt                          | First-year                          | 0                                   |  5.41                               | lemon                               | FALSE                               |\n",
       "| Steinhardt                          | Sophomore                           | 0                                   | 63.00                               | Mint chocolate chip                 | FALSE                               |\n",
       "| CAS                                 | First-year                          | 0                                   | 67.00                               | Mocha (anything Coffee + Chocolate) |  TRUE                               |\n",
       "| CAS                                 | Sophomore                           | 0                                   | 66.00                               | Chocolate Chip Cookie Dough         | FALSE                               |\n",
       "| Steinhardt                          | First-year                          | 0                                   | 70.00                               | Chocolate Chip Cookie Dough         | FALSE                               |\n",
       "| Steinhardt                          | First-year                          | 0                                   | 68.00                               | vanilla and chocolate               |  TRUE                               |\n",
       "| CAS                                 | Junior                              | 4                                   | 67.00                               | cookie dough                        | FALSE                               |\n",
       "| Steinhardt                          | Junior                              | 4                                   | 72.00                               | salted caramel                      | FALSE                               |\n",
       "| CAS                                 | Sophomore                           | 2                                   | 66.00                               | lychee                              | FALSE                               |\n",
       "| Liberal Studies                     | Sophomore                           | 2                                   | 69.00                               | cookies and cream                   | FALSE                               |\n",
       "| Steinhardt                          | First-year                          | 0                                   | 71.00                               | Mint Chip                           |  TRUE                               |\n",
       "| Steinhardt                          | First-year                          | 0                                   | 63.00                               | Chocolate Chip Cookie Dough         |  TRUE                               |\n",
       "| CAS                                 | First-year                          | 0                                   | 71.00                               | Vanilla                             |  TRUE                               |\n",
       "| CAS                                 | First-year                          | 0                                   | 66.00                               | Oreo                                |  TRUE                               |\n",
       "| Steinhardt                          | First-year                          | 0                                   | 62.00                               | Cookie Dough                        |  TRUE                               |\n",
       "| Steinhardt                          | Sophomore                           | 2                                   | 67.00                               | Cake Batter                         | FALSE                               |\n",
       "| Steinhardt                          | Junior                              | 4                                   |  5.20                               | Cotton Candy                        |  TRUE                               |\n",
       "| Steinhardt                          | Sophomore                           | 2                                   | 66.00                               | Haagen-dazs Caramel Cone            | FALSE                               |\n",
       "| CAS                                 | First-year                          | 0                                   |  5.70                               | Cookies n Cream                     | FALSE                               |\n",
       "| ... | ... | ... | ... | ... | ... |\n",
       "| CAS                                 | First-year                          | 0.0                                 |  63.000                             | Mint Chocolate Chip                 | FALSE                               |\n",
       "| CAS                                 | Junior                              | 0.0                                 |  69.000                             | The Tonight Dough                   | FALSE                               |\n",
       "| CAS                                 | Junior                              | 0.0                                 |  78.000                             | Vanilla                             | FALSE                               |\n",
       "| Steinhardt                          | First-year                          | 2.0                                 |  65.748                             | chocolate                           | FALSE                               |\n",
       "| Steinhardt                          | First-year                          | 0.0                                 |  62.000                             | Cookie dough                        |  TRUE                               |\n",
       "| Steinhardt                          | Sophomore                           | 0.0                                 |  73.000                             | Strawberry                          | FALSE                               |\n",
       "| CAS                                 | Junior                              | 4.0                                 |  69.000                             | Chocolate!!                         |  TRUE                               |\n",
       "| Steinhardt                          | Junior                              | 4.0                                 |  68.000                             | Oreo                                | FALSE                               |\n",
       "| Steinhardt                          | First-year                          | 0.0                                 |  64.000                             | Cookies and cream                   |  TRUE                               |\n",
       "| Steinhardt                          | Junior                              | 4.0                                 |  64.000                             | chocolate                           | FALSE                               |\n",
       "| Steinhardt                          | Sophomore                           | 0.0                                 |  66.000                             | cookie and cream                    | FALSE                               |\n",
       "| Steinhardt                          | First-year                          | 0.0                                 |  71.000                             | Vanilla                             |  TRUE                               |\n",
       "| Steinhardt                          | First-year                          | 0.0                                 |  67.300                             | Strawberry / Vanilla / Cookie&cream | FALSE                               |\n",
       "| CAS                                 | Sophomore                           | 0.0                                 |  67.000                             | Talenti Souther Butter Pecan        | FALSE                               |\n",
       "| CAS                                 | Sophomore                           | 2.0                                 |  66.000                             | Vanilla                             | FALSE                               |\n",
       "| CAS                                 | Senior                              | 6.0                                 |  71.000                             | Ben and Jerrys phish food           | FALSE                               |\n",
       "| CAS                                 | Sophomore                           | 2.0                                 | 168.000                             | pink                                | FALSE                               |\n",
       "| Steinhardt                          | Sophomore                           | 2.0                                 |  68.000                             | cookie dough                        | FALSE                               |\n",
       "| Liberal Studies                     | Sophomore                           | 2.0                                 |  72.000                             | vanilla                             | FALSE                               |\n",
       "| Steinhardt                          | Sophomore                           | 1.5                                 |  67.000                             | Cookies and Cream                   | FALSE                               |\n",
       "| CAS                                 | First-year                          | 0.0                                 |  63.000                             | vanilla                             | FALSE                               |\n",
       "| Tisch                               | Senior                              | 7.0                                 |  74.000                             | Mint Chocolate Chip                 | FALSE                               |\n",
       "| Steinhardt                          | Senior                              | 6.0                                 |  67.000                             | chocolate                           |  TRUE                               |\n",
       "| CAS                                 | First-year                          | 0.0                                 |  63.000                             | chocolate soft serve                |  TRUE                               |\n",
       "| Steinhardt                          | Junior                              | 4.0                                 |  63.000                             | Lemon Sorbet                        | FALSE                               |\n",
       "| Tisch                               | First-year                          | 0.0                                 |  72.000                             | matcha green tea                    | FALSE                               |\n",
       "| Steinhardt                          | First-year                          | 0.0                                 |  72.000                             | Cookie dough                        |  TRUE                               |\n",
       "| CAS                                 | First-year                          | 0.0                                 |  66.000                             | Birthday Cake                       |  TRUE                               |\n",
       "| CAS                                 | Junior                              | 1.0                                 |  71.000                             | Cookie dough                        | FALSE                               |\n",
       "| CAS                                 | First-year                          | 0.0                                 |  63.000                             | Chocolate                           | FALSE                               |\n",
       "\n"
      ],
      "text/plain": [
       "    NYU_School      NYU_Year   Num_semesters_completed Height_inches\n",
       "1   Steinhardt      Senior     7                       66.00        \n",
       "2   CAS             Junior     0                       65.00        \n",
       "3   Steinhardt      First-year 0                       72.00        \n",
       "4   CAS             Sophomore  0                       63.00        \n",
       "5   Steinhardt      First-year 0                       67.00        \n",
       "6   Steinhardt      Sophomore  2                        5.20        \n",
       "7   Steinhardt      First-year 0                       71.00        \n",
       "8   CAS             First-year 0                       71.00        \n",
       "9   Steinhardt      Sophomore  0                       62.00        \n",
       "10  Steinhardt      First-year 0                       62.00        \n",
       "11  Steinhardt      Junior     4                       63.00        \n",
       "12  Steinhardt      First-year 0                        5.41        \n",
       "13  Steinhardt      Sophomore  0                       63.00        \n",
       "14  CAS             First-year 0                       67.00        \n",
       "15  CAS             Sophomore  0                       66.00        \n",
       "16  Steinhardt      First-year 0                       70.00        \n",
       "17  Steinhardt      First-year 0                       68.00        \n",
       "18  CAS             Junior     4                       67.00        \n",
       "19  Steinhardt      Junior     4                       72.00        \n",
       "20  CAS             Sophomore  2                       66.00        \n",
       "21  Liberal Studies Sophomore  2                       69.00        \n",
       "22  Steinhardt      First-year 0                       71.00        \n",
       "23  Steinhardt      First-year 0                       63.00        \n",
       "24  CAS             First-year 0                       71.00        \n",
       "25  CAS             First-year 0                       66.00        \n",
       "26  Steinhardt      First-year 0                       62.00        \n",
       "27  Steinhardt      Sophomore  2                       67.00        \n",
       "28  Steinhardt      Junior     4                        5.20        \n",
       "29  Steinhardt      Sophomore  2                       66.00        \n",
       "30  CAS             First-year 0                        5.70        \n",
       "... ...             ...        ...                     ...          \n",
       "34  CAS             First-year 0.0                      63.000      \n",
       "35  CAS             Junior     0.0                      69.000      \n",
       "36  CAS             Junior     0.0                      78.000      \n",
       "37  Steinhardt      First-year 2.0                      65.748      \n",
       "38  Steinhardt      First-year 0.0                      62.000      \n",
       "39  Steinhardt      Sophomore  0.0                      73.000      \n",
       "40  CAS             Junior     4.0                      69.000      \n",
       "41  Steinhardt      Junior     4.0                      68.000      \n",
       "42  Steinhardt      First-year 0.0                      64.000      \n",
       "43  Steinhardt      Junior     4.0                      64.000      \n",
       "44  Steinhardt      Sophomore  0.0                      66.000      \n",
       "45  Steinhardt      First-year 0.0                      71.000      \n",
       "46  Steinhardt      First-year 0.0                      67.300      \n",
       "47  CAS             Sophomore  0.0                      67.000      \n",
       "48  CAS             Sophomore  2.0                      66.000      \n",
       "49  CAS             Senior     6.0                      71.000      \n",
       "50  CAS             Sophomore  2.0                     168.000      \n",
       "51  Steinhardt      Sophomore  2.0                      68.000      \n",
       "52  Liberal Studies Sophomore  2.0                      72.000      \n",
       "53  Steinhardt      Sophomore  1.5                      67.000      \n",
       "54  CAS             First-year 0.0                      63.000      \n",
       "55  Tisch           Senior     7.0                      74.000      \n",
       "56  Steinhardt      Senior     6.0                      67.000      \n",
       "57  CAS             First-year 0.0                      63.000      \n",
       "58  Steinhardt      Junior     4.0                      63.000      \n",
       "59  Tisch           First-year 0.0                      72.000      \n",
       "60  Steinhardt      First-year 0.0                      72.000      \n",
       "61  CAS             First-year 0.0                      66.000      \n",
       "62  CAS             Junior     1.0                      71.000      \n",
       "63  CAS             First-year 0.0                      63.000      \n",
       "    Fave_ice_cream_flavor               On_campus\n",
       "1   Chocolate                           FALSE    \n",
       "2   Matcha                              FALSE    \n",
       "3   caramel cone                         TRUE    \n",
       "4   Cotton candy                        FALSE    \n",
       "5   Strawberry                           TRUE    \n",
       "6   Mint Chocolate Chip                 FALSE    \n",
       "7   Mint Chocolate Chip                  TRUE    \n",
       "8   original                             TRUE    \n",
       "9   Strawberry                          FALSE    \n",
       "10  Mint Chocolate Chip :)              FALSE    \n",
       "11  Ben & Jerry's Americone Dream       FALSE    \n",
       "12  lemon                               FALSE    \n",
       "13  Mint chocolate chip                 FALSE    \n",
       "14  Mocha (anything Coffee + Chocolate)  TRUE    \n",
       "15  Chocolate Chip Cookie Dough         FALSE    \n",
       "16  Chocolate Chip Cookie Dough         FALSE    \n",
       "17  vanilla and chocolate                TRUE    \n",
       "18  cookie dough                        FALSE    \n",
       "19  salted caramel                      FALSE    \n",
       "20  lychee                              FALSE    \n",
       "21  cookies and cream                   FALSE    \n",
       "22  Mint Chip                            TRUE    \n",
       "23  Chocolate Chip Cookie Dough          TRUE    \n",
       "24  Vanilla                              TRUE    \n",
       "25  Oreo                                 TRUE    \n",
       "26  Cookie Dough                         TRUE    \n",
       "27  Cake Batter                         FALSE    \n",
       "28  Cotton Candy                         TRUE    \n",
       "29  Haagen-dazs Caramel Cone            FALSE    \n",
       "30  Cookies n Cream                     FALSE    \n",
       "... ...                                 ...      \n",
       "34  Mint Chocolate Chip                 FALSE    \n",
       "35  The Tonight Dough                   FALSE    \n",
       "36  Vanilla                             FALSE    \n",
       "37  chocolate                           FALSE    \n",
       "38  Cookie dough                         TRUE    \n",
       "39  Strawberry                          FALSE    \n",
       "40  Chocolate!!                          TRUE    \n",
       "41  Oreo                                FALSE    \n",
       "42  Cookies and cream                    TRUE    \n",
       "43  chocolate                           FALSE    \n",
       "44  cookie and cream                    FALSE    \n",
       "45  Vanilla                              TRUE    \n",
       "46  Strawberry / Vanilla / Cookie&cream FALSE    \n",
       "47  Talenti Souther Butter Pecan        FALSE    \n",
       "48  Vanilla                             FALSE    \n",
       "49  Ben and Jerrys phish food           FALSE    \n",
       "50  pink                                FALSE    \n",
       "51  cookie dough                        FALSE    \n",
       "52  vanilla                             FALSE    \n",
       "53  Cookies and Cream                   FALSE    \n",
       "54  vanilla                             FALSE    \n",
       "55  Mint Chocolate Chip                 FALSE    \n",
       "56  chocolate                            TRUE    \n",
       "57  chocolate soft serve                 TRUE    \n",
       "58  Lemon Sorbet                        FALSE    \n",
       "59  matcha green tea                    FALSE    \n",
       "60  Cookie dough                         TRUE    \n",
       "61  Birthday Cake                        TRUE    \n",
       "62  Cookie dough                        FALSE    \n",
       "63  Chocolate                           FALSE    "
      ]
     },
     "metadata": {},
     "output_type": "display_data"
    }
   ],
   "source": [
    "studentsurvey"
   ]
  },
  {
   "cell_type": "markdown",
   "metadata": {
    "slideshow": {
     "slide_type": "-"
    }
   },
   "source": [
    "## 4. Types of Data"
   ]
  },
  {
   "cell_type": "markdown",
   "metadata": {
    "slideshow": {
     "slide_type": "-"
    }
   },
   "source": [
    "##### 1. Numerical Data\n",
    "    \n",
    "These are data that are numbers!  They could be positive, negative, integer, or non-integer numbers."
   ]
  },
  {
   "cell_type": "code",
   "execution_count": null,
   "metadata": {},
   "outputs": [],
   "source": []
  },
  {
   "cell_type": "markdown",
   "metadata": {
    "slideshow": {
     "slide_type": "-"
    }
   },
   "source": [
    "##### 2. Text Data (a.k.a. string or **character**)"
   ]
  },
  {
   "cell_type": "code",
   "execution_count": null,
   "metadata": {},
   "outputs": [],
   "source": []
  },
  {
   "cell_type": "markdown",
   "metadata": {
    "slideshow": {
     "slide_type": "-"
    }
   },
   "source": [
    "##### 3. Categorical/Group Data (a.k.a. **factor**)\n",
    "   \n",
    "These are data that indicates groups/categories/types.\n",
    "   \n"
   ]
  },
  {
   "cell_type": "code",
   "execution_count": null,
   "metadata": {},
   "outputs": [],
   "source": []
  },
  {
   "cell_type": "markdown",
   "metadata": {
    "slideshow": {
     "slide_type": "-"
    }
   },
   "source": [
    "##### 4. Boolean Data (a.k.a. **logical** data)\n",
    "   \n",
    "These are \"binary\" data, which has only two possibilities: TRUE or FALSE values.  We will see their concrete use later."
   ]
  },
  {
   "cell_type": "code",
   "execution_count": null,
   "metadata": {},
   "outputs": [],
   "source": []
  },
  {
   "cell_type": "markdown",
   "metadata": {
    "slideshow": {
     "slide_type": "-"
    }
   },
   "source": [
    "## 5. Functions"
   ]
  },
  {
   "cell_type": "code",
   "execution_count": null,
   "metadata": {
    "slideshow": {
     "slide_type": "-"
    }
   },
   "outputs": [],
   "source": [
    "\n",
    "\n"
   ]
  },
  {
   "cell_type": "code",
   "execution_count": null,
   "metadata": {
    "slideshow": {
     "slide_type": "-"
    }
   },
   "outputs": [],
   "source": [
    "\n",
    "\n"
   ]
  },
  {
   "cell_type": "markdown",
   "metadata": {
    "slideshow": {
     "slide_type": "-"
    }
   },
   "source": [
    "## 6. Lists"
   ]
  },
  {
   "cell_type": "markdown",
   "metadata": {
    "slideshow": {
     "slide_type": "-"
    }
   },
   "source": [
    "### 6.1. Making a new list using the `c()` function"
   ]
  },
  {
   "cell_type": "code",
   "execution_count": null,
   "metadata": {},
   "outputs": [],
   "source": []
  },
  {
   "cell_type": "code",
   "execution_count": null,
   "metadata": {},
   "outputs": [],
   "source": [
    "\n",
    "\n",
    "\n"
   ]
  },
  {
   "cell_type": "code",
   "execution_count": null,
   "metadata": {},
   "outputs": [],
   "source": []
  },
  {
   "cell_type": "code",
   "execution_count": null,
   "metadata": {
    "slideshow": {
     "slide_type": "-"
    }
   },
   "outputs": [],
   "source": [
    "\n",
    "\n"
   ]
  },
  {
   "cell_type": "markdown",
   "metadata": {
    "slideshow": {
     "slide_type": "-"
    }
   },
   "source": [
    "### 6.2. Making a new list of integers (second method)"
   ]
  },
  {
   "cell_type": "code",
   "execution_count": null,
   "metadata": {
    "slideshow": {
     "slide_type": "-"
    }
   },
   "outputs": [],
   "source": []
  },
  {
   "cell_type": "code",
   "execution_count": null,
   "metadata": {
    "scrolled": true
   },
   "outputs": [],
   "source": []
  },
  {
   "cell_type": "markdown",
   "metadata": {
    "slideshow": {
     "slide_type": "-"
    }
   },
   "source": [
    "### 6.3. Arithmetic with numeric lists\n",
    "\n",
    "**Example**"
   ]
  },
  {
   "cell_type": "code",
   "execution_count": null,
   "metadata": {
    "slideshow": {
     "slide_type": "-"
    }
   },
   "outputs": [],
   "source": []
  },
  {
   "cell_type": "code",
   "execution_count": null,
   "metadata": {},
   "outputs": [],
   "source": [
    "\n",
    "\n"
   ]
  },
  {
   "cell_type": "markdown",
   "metadata": {
    "slideshow": {
     "slide_type": "-"
    }
   },
   "source": [
    "### 6.4. Useful functions for working with lists\n",
    "\n",
    "In addition to the function `c()`, which we use to make new lists, the following are three other useful functions that we can use to examine lists:\n",
    "+ `length()`: to find the \"length\" of a list (i.e. how many values are stored in a list \n",
    "+ `max()`: to find the largest value in a list\n",
    "+ `min()`: to find the smallest value in a list\n",
    "+ `sum()`: to find the sum of values in a list\n",
    "+ `mean()`: to find the average of values in a list\n",
    "\n",
    "Try them below."
   ]
  },
  {
   "cell_type": "code",
   "execution_count": null,
   "metadata": {
    "slideshow": {
     "slide_type": "-"
    }
   },
   "outputs": [],
   "source": [
    "\n",
    "\n"
   ]
  },
  {
   "cell_type": "markdown",
   "metadata": {
    "slideshow": {
     "slide_type": "-"
    }
   },
   "source": [
    "**Exercise** Create a list of all integers from 1 to 10 and name this list `my_new_list`.  Then, \n",
    "1. print the contents of this list.\n",
    "2. find the sum of the integers 1, 2, ... , 10"
   ]
  },
  {
   "cell_type": "code",
   "execution_count": null,
   "metadata": {},
   "outputs": [],
   "source": [
    "\n"
   ]
  },
  {
   "cell_type": "markdown",
   "metadata": {
    "slideshow": {
     "slide_type": "-"
    }
   },
   "source": [
    "##### 2-Minute Group Work\n",
    "How might you do the following in R as succinctly as possible?  Think about this question on your own for about 30 seconds, then discuss with at least one neighbor.\n",
    "1. Create a list containing the first 50 positive even numbers\n",
    "2. Create a list containing the first 50 positive odd numbers"
   ]
  },
  {
   "cell_type": "code",
   "execution_count": null,
   "metadata": {},
   "outputs": [],
   "source": [
    "\n",
    "\n",
    "\n"
   ]
  },
  {
   "cell_type": "markdown",
   "metadata": {
    "slideshow": {
     "slide_type": "-"
    }
   },
   "source": [
    "## Summary\n",
    "\n",
    "Today:\n",
    "1. Working with Jupyter Notebooks $\\checkmark$\n",
    "2. Computing and arithmetic in R $\\checkmark$\n",
    "    + A comment about \"comments\" $\\checkmark$\n",
    "3. Working with \"names\" $\\checkmark$\n",
    "4. Types of Data $\\checkmark$\n",
    "5. Functions $\\checkmark$\n",
    "6. Lists $\\checkmark$"
   ]
  },
  {
   "cell_type": "markdown",
   "metadata": {
    "slideshow": {
     "slide_type": "-"
    }
   },
   "source": [
    "## Summary of new R functions\n",
    "Here's a brief summary of the new R functions we learned today.  You should be familiar with these functions and able to use them in labs and projects.\n",
    "\n",
    "You might want to add their descriptions down here as you review/study.  As you use these functions frequently in labs, projects, and homework, you will learn to remember and understand them and be more \"fluent\" in using them.\n",
    "\n",
    "+ General functions\n",
    "    + print()\n",
    "    + sqrt()\n",
    "    + abs()\n",
    "+ Functions for working with lists\n",
    "    + c()\n",
    "    + length()\n",
    "    + max()\n",
    "    + min()\n",
    "    + sum()\n",
    "    + mean()"
   ]
  },
  {
   "cell_type": "code",
   "execution_count": null,
   "metadata": {},
   "outputs": [],
   "source": []
  }
 ],
 "metadata": {
  "kernelspec": {
   "display_name": "R",
   "language": "R",
   "name": "ir"
  },
  "language_info": {
   "codemirror_mode": "r",
   "file_extension": ".r",
   "mimetype": "text/x-r-source",
   "name": "R",
   "pygments_lexer": "r",
   "version": "3.6.1"
  }
 },
 "nbformat": 4,
 "nbformat_minor": 2
}
