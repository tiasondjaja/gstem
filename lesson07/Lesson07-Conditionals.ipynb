{
 "cells": [
  {
   "cell_type": "markdown",
   "metadata": {
    "slideshow": {
     "slide_type": "slide"
    }
   },
   "source": [
    "# Lesson 7: Conditionals\n",
    "\n",
    "Today:\n",
    "1. Conditionals: Introduction\n",
    "    + Conditional statements\n",
    "    + Boolean variables, operations, expressions\n",
    "        + `and`\n",
    "        + `or`\n",
    "        + `not`\n",
    "2. Programming Elements\n",
    "    + If-else statements\n",
    "    + Application to classification: \n",
    "        + Explore and visualize the training data\n",
    "        + Simple decision tree classifiers"
   ]
  },
  {
   "cell_type": "markdown",
   "metadata": {},
   "source": [
    "## 1. Boolean Variables and Operations"
   ]
  },
  {
   "cell_type": "code",
   "execution_count": null,
   "metadata": {},
   "outputs": [],
   "source": []
  },
  {
   "cell_type": "code",
   "execution_count": null,
   "metadata": {},
   "outputs": [],
   "source": [
    "\n"
   ]
  },
  {
   "cell_type": "code",
   "execution_count": null,
   "metadata": {},
   "outputs": [],
   "source": [
    "\n"
   ]
  },
  {
   "cell_type": "code",
   "execution_count": null,
   "metadata": {},
   "outputs": [],
   "source": []
  },
  {
   "cell_type": "code",
   "execution_count": null,
   "metadata": {},
   "outputs": [],
   "source": []
  },
  {
   "cell_type": "code",
   "execution_count": null,
   "metadata": {},
   "outputs": [],
   "source": []
  },
  {
   "cell_type": "code",
   "execution_count": null,
   "metadata": {},
   "outputs": [],
   "source": []
  },
  {
   "cell_type": "code",
   "execution_count": null,
   "metadata": {},
   "outputs": [],
   "source": []
  },
  {
   "cell_type": "code",
   "execution_count": null,
   "metadata": {},
   "outputs": [],
   "source": []
  },
  {
   "cell_type": "markdown",
   "metadata": {},
   "source": [
    "## 2. Programming Elements: Conditionals"
   ]
  },
  {
   "cell_type": "code",
   "execution_count": null,
   "metadata": {},
   "outputs": [],
   "source": []
  },
  {
   "cell_type": "code",
   "execution_count": null,
   "metadata": {},
   "outputs": [],
   "source": []
  },
  {
   "cell_type": "code",
   "execution_count": null,
   "metadata": {},
   "outputs": [],
   "source": []
  },
  {
   "cell_type": "code",
   "execution_count": null,
   "metadata": {},
   "outputs": [],
   "source": []
  },
  {
   "cell_type": "code",
   "execution_count": null,
   "metadata": {},
   "outputs": [],
   "source": []
  },
  {
   "cell_type": "code",
   "execution_count": null,
   "metadata": {},
   "outputs": [],
   "source": []
  },
  {
   "cell_type": "code",
   "execution_count": null,
   "metadata": {},
   "outputs": [],
   "source": []
  },
  {
   "cell_type": "code",
   "execution_count": null,
   "metadata": {},
   "outputs": [],
   "source": []
  },
  {
   "cell_type": "markdown",
   "metadata": {
    "slideshow": {
     "slide_type": "subslide"
    }
   },
   "source": [
    "#### A Quick Group Activity\n",
    "\n",
    "Write an if-then statement that assigns the value of `y` depending on the value of `x` as follows: \n",
    "+ if `x` is negative, returns the value of `x` times `-1`\n",
    "+ otherwise, returns `x`."
   ]
  },
  {
   "cell_type": "markdown",
   "metadata": {
    "slideshow": {
     "slide_type": "fragment"
    }
   },
   "source": [
    "Then, try to find the output of values of `y` when \n",
    "+ `x` is 12\n",
    "+ `x` is -12, \n",
    "+ and a few other values of `x`.\n",
    "\n",
    "What is the mathematical function represented by this if-else statement?"
   ]
  },
  {
   "cell_type": "code",
   "execution_count": null,
   "metadata": {},
   "outputs": [],
   "source": []
  },
  {
   "cell_type": "code",
   "execution_count": null,
   "metadata": {},
   "outputs": [],
   "source": []
  },
  {
   "cell_type": "code",
   "execution_count": null,
   "metadata": {},
   "outputs": [],
   "source": []
  },
  {
   "cell_type": "markdown",
   "metadata": {},
   "source": [
    "### Applications to Classification"
   ]
  },
  {
   "cell_type": "markdown",
   "metadata": {
    "slideshow": {
     "slide_type": "subslide"
    }
   },
   "source": [
    "**Example: Encoding a simple classifier (version 1)**\n",
    "\n",
    "One possible classifier:\n",
    "+ If marginal_adhesion is less than 4, the tumor is classified as 0 (benign); \n",
    "+ else, it is classified as 1 (malignant)\n",
    "\n",
    "<table>\n",
    "    <tr>\n",
    "        <td><img src=\"lec20-knn-illustration2_wline.jpg\" width=\"300\"></td>\n",
    "        <td><img src=\"dec_tree1.png\" width=\"400\"></td>\n",
    "    </tr>\n",
    "</table>"
   ]
  },
  {
   "cell_type": "code",
   "execution_count": null,
   "metadata": {
    "slideshow": {
     "slide_type": "fragment"
    }
   },
   "outputs": [],
   "source": [
    "# Encoding a simple classifier\n",
    "# If marginal_adhesion is less than 4, \n",
    "#  the tumor is classified as 0 (benign); \n",
    "#  else, it is classified as 1 (malignant)\n",
    "\n",
    "\n",
    "\n"
   ]
  },
  {
   "cell_type": "markdown",
   "metadata": {},
   "source": [
    "**Example: Encoding another simple classifier (version 2)**\n",
    "\n",
    "Another possible classifier:\n",
    "+ If marginal_adhesion is less than 4 AND clump_thickness is less than 7, the tumor is classified as 0 (benign);\n",
    "+ else, it is classified as 1 (malignant)\n",
    "\n",
    "<table>\n",
    "    <tr>\n",
    "        <td><img src=\"lec20-knn-illustration2_wline2.jpg\" width=\"300\"></td>\n",
    "        <td></td>\n",
    "    </tr>\n",
    "</table>"
   ]
  },
  {
   "cell_type": "code",
   "execution_count": null,
   "metadata": {
    "scrolled": false,
    "slideshow": {
     "slide_type": "subslide"
    }
   },
   "outputs": [],
   "source": [
    "# Encoding a simple classifier\n",
    "# If marginal_adhesion is less than 4 AND clump_thickness is less than 7, the tumor is classified as 0 (benign); \n",
    "# else, it is classified as 1 (malignant)\n",
    "\n",
    "\n",
    "\n"
   ]
  },
  {
   "cell_type": "code",
   "execution_count": null,
   "metadata": {
    "slideshow": {
     "slide_type": "subslide"
    }
   },
   "outputs": [],
   "source": [
    "# Encoding a simple classifier\n",
    "# "
   ]
  },
  {
   "cell_type": "markdown",
   "metadata": {
    "slideshow": {
     "slide_type": "subslide"
    }
   },
   "source": [
    "##### 3-Minute Group Exercise\n",
    "\n",
    "1. Create a visualization involving other variables in this dataset\n",
    "2. Sketch (by hand) a \"decision tree\" for deciding when you would predict the class to be 0 and when to be 1\n",
    "3. Write if-else statements that \"encodes\" this decision tree"
   ]
  },
  {
   "cell_type": "code",
   "execution_count": null,
   "metadata": {},
   "outputs": [],
   "source": []
  },
  {
   "cell_type": "code",
   "execution_count": null,
   "metadata": {},
   "outputs": [],
   "source": []
  }
 ],
 "metadata": {
  "celltoolbar": "Slideshow",
  "kernelspec": {
   "display_name": "R",
   "language": "R",
   "name": "ir"
  },
  "language_info": {
   "codemirror_mode": "r",
   "file_extension": ".r",
   "mimetype": "text/x-r-source",
   "name": "R",
   "pygments_lexer": "r",
   "version": "3.5.1"
  }
 },
 "nbformat": 4,
 "nbformat_minor": 2
}
