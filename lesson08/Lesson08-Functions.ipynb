{
 "cells": [
  {
   "cell_type": "markdown",
   "metadata": {
    "slideshow": {
     "slide_type": "slide"
    }
   },
   "source": [
    "# Lesson 8: Functions\n",
    "\n",
    "Today:\n",
    "1. Functions\n",
    "    + Why define our own functions\n",
    "    + How to define your own functions in python\n",
    "    + Application to classification"
   ]
  },
  {
   "cell_type": "markdown",
   "metadata": {
    "slideshow": {
     "slide_type": "slide"
    }
   },
   "source": [
    "## 1. Defining your own functions"
   ]
  },
  {
   "cell_type": "code",
   "execution_count": null,
   "metadata": {},
   "outputs": [],
   "source": []
  },
  {
   "cell_type": "code",
   "execution_count": null,
   "metadata": {},
   "outputs": [],
   "source": []
  },
  {
   "cell_type": "markdown",
   "metadata": {
    "slideshow": {
     "slide_type": "subslide"
    }
   },
   "source": [
    "**Example**\n",
    "\n",
    "You decided to check out a very popular East Village ramen restaurant for dinner on Friday night.  After waiting in line for two hours, you are finally seated.  As you are reading the menu, you realized that this restaurant is cash-only.  You have $28.75 with you and need to make sure that you have enough cash to pay for the dinner, including the 8.875% tax and the tip.\n",
    "\n",
    "You are considering ordering a $\\$$15 dish and a $\\$$6 beverage.  How much would you have to pay if you are giving an 18% tip?"
   ]
  },
  {
   "cell_type": "code",
   "execution_count": null,
   "metadata": {
    "slideshow": {
     "slide_type": "fragment"
    }
   },
   "outputs": [],
   "source": [
    "\n",
    "\n",
    "\n"
   ]
  },
  {
   "cell_type": "markdown",
   "metadata": {
    "slideshow": {
     "slide_type": "subslide"
    }
   },
   "source": [
    "**Example, continued**\n",
    "\n",
    "With 28.75 in your pocket, knowing that you still have some cash leftover, you wonder if you could afford a $\\$$17 dish and a $\\$$6 beverage, with the same 8.875\\% tax and 18\\% tip."
   ]
  },
  {
   "cell_type": "code",
   "execution_count": null,
   "metadata": {
    "slideshow": {
     "slide_type": "fragment"
    }
   },
   "outputs": [],
   "source": [
    "\n",
    "\n"
   ]
  },
  {
   "cell_type": "code",
   "execution_count": null,
   "metadata": {
    "slideshow": {
     "slide_type": "fragment"
    }
   },
   "outputs": [],
   "source": [
    "\n",
    "\n"
   ]
  },
  {
   "cell_type": "code",
   "execution_count": null,
   "metadata": {},
   "outputs": [],
   "source": []
  },
  {
   "cell_type": "markdown",
   "metadata": {
    "slideshow": {
     "slide_type": "subslide"
    }
   },
   "source": [
    "**Example, continued**\n",
    "\n",
    "Since you only have $\\$$28.75 but really want that $\\$$17 dish and the $\\$$6 beverage, you wonder if you can afford this meal if you only give a 15\\% tip. "
   ]
  },
  {
   "cell_type": "code",
   "execution_count": null,
   "metadata": {
    "slideshow": {
     "slide_type": "fragment"
    }
   },
   "outputs": [],
   "source": [
    "\n",
    "\n"
   ]
  },
  {
   "cell_type": "markdown",
   "metadata": {},
   "source": [
    "Remarks:\n",
    "+ The above examples are all similar (and **repetitive**!)\n",
    "+ Same method of computation, just different numbers\n",
    "+ Wouldn't it be nice if there is an R function that allows us to do the above repetitions easily?  Something like\n",
    "\n",
    "        calculate_bill( LISTOFPRICESOFITEMS, TIPPERCENTAGE)\n",
    "  that calculates the total bill, given a list of prices/costs of items and how many percent tip we want to give"
   ]
  },
  {
   "cell_type": "markdown",
   "metadata": {
    "slideshow": {
     "slide_type": "subslide"
    }
   },
   "source": [
    "**Example**"
   ]
  },
  {
   "cell_type": "code",
   "execution_count": null,
   "metadata": {
    "slideshow": {
     "slide_type": "fragment"
    }
   },
   "outputs": [],
   "source": [
    "\n"
   ]
  },
  {
   "cell_type": "code",
   "execution_count": null,
   "metadata": {
    "slideshow": {
     "slide_type": "fragment"
    }
   },
   "outputs": [],
   "source": []
  },
  {
   "cell_type": "code",
   "execution_count": null,
   "metadata": {
    "slideshow": {
     "slide_type": "fragment"
    }
   },
   "outputs": [],
   "source": []
  },
  {
   "cell_type": "code",
   "execution_count": null,
   "metadata": {},
   "outputs": [],
   "source": []
  },
  {
   "cell_type": "markdown",
   "metadata": {},
   "source": [
    "### Activity 1\n",
    "\n",
    "Define a new function called `my_function2`, which\n",
    "+ takes three numbers as inputs: `a`, `b`, `c`, and\n",
    "+ if `a` is strictly greater than zero, then it returns as an output `b + c`;\n",
    "+ otherwise, if `a` is zero or negative, then it returns as an output `b - c`."
   ]
  },
  {
   "cell_type": "code",
   "execution_count": null,
   "metadata": {},
   "outputs": [],
   "source": [
    "\n",
    "\n",
    "\n"
   ]
  },
  {
   "cell_type": "code",
   "execution_count": null,
   "metadata": {},
   "outputs": [],
   "source": [
    "\n",
    "\n"
   ]
  },
  {
   "cell_type": "markdown",
   "metadata": {},
   "source": [
    "**Question:** Why is it important to use `return()` at the end?"
   ]
  },
  {
   "cell_type": "code",
   "execution_count": null,
   "metadata": {},
   "outputs": [],
   "source": []
  },
  {
   "cell_type": "code",
   "execution_count": null,
   "metadata": {},
   "outputs": [],
   "source": []
  },
  {
   "cell_type": "code",
   "execution_count": null,
   "metadata": {},
   "outputs": [],
   "source": []
  },
  {
   "cell_type": "code",
   "execution_count": null,
   "metadata": {},
   "outputs": [],
   "source": []
  },
  {
   "cell_type": "code",
   "execution_count": null,
   "metadata": {
    "scrolled": true
   },
   "outputs": [],
   "source": []
  },
  {
   "cell_type": "code",
   "execution_count": null,
   "metadata": {
    "scrolled": true
   },
   "outputs": [],
   "source": []
  },
  {
   "cell_type": "markdown",
   "metadata": {
    "slideshow": {
     "slide_type": "subslide"
    }
   },
   "source": [
    "### Activity 2\n",
    "\n",
    "Define a new function called `compund_interest()` which takes three inputs\n",
    "+ `initial_deposit`: the amount you deposited in the savings account\n",
    "+ `interest_rate`: the annual interest rate of the account (in decimal)\n",
    "+ `num_years`: the number of years the initial deposit stays in the account\n",
    "\n",
    "and ouputs/returns `account_total`, the total amount in the savings ccount after the specified number of years,\n",
    "\n",
    "Then, check by using the function to compute the total amount in the account if:\n",
    "+ we initally deposited 1000 dollars, the annual interest rate is 0.02, and we keep the account for 2 years \n",
    "+ we initally deposited 1250 dollars, the annual interest rate is 0.03, and we keep the account for 30 years \n",
    "+ try other inputs!"
   ]
  },
  {
   "cell_type": "code",
   "execution_count": null,
   "metadata": {
    "slideshow": {
     "slide_type": "fragment"
    }
   },
   "outputs": [],
   "source": []
  },
  {
   "cell_type": "code",
   "execution_count": null,
   "metadata": {},
   "outputs": [],
   "source": []
  },
  {
   "cell_type": "code",
   "execution_count": null,
   "metadata": {
    "slideshow": {
     "slide_type": "-"
    }
   },
   "outputs": [],
   "source": []
  },
  {
   "cell_type": "code",
   "execution_count": null,
   "metadata": {
    "slideshow": {
     "slide_type": "-"
    }
   },
   "outputs": [],
   "source": []
  },
  {
   "cell_type": "code",
   "execution_count": null,
   "metadata": {},
   "outputs": [],
   "source": []
  },
  {
   "cell_type": "markdown",
   "metadata": {
    "slideshow": {
     "slide_type": "slide"
    }
   },
   "source": [
    "### Application to Classification\n",
    "\n",
    "Consider the second simple classifier which we did last class\n"
   ]
  },
  {
   "cell_type": "markdown",
   "metadata": {
    "slideshow": {
     "slide_type": "subslide"
    }
   },
   "source": [
    "**Example: Encoding a simple classifier (version 2)**\n",
    "\n",
    "<table>\n",
    "    <tr>\n",
    "        <td><img src=\"images/lec20-knn-illustration2_wline2.jpg\" width=\"600\"></td>\n",
    "        <td><img src=\"images/dec_tree1b.jpg\" width=\"600\"></td>\n",
    "    </tr>\n",
    "</table>  "
   ]
  },
  {
   "cell_type": "code",
   "execution_count": null,
   "metadata": {},
   "outputs": [],
   "source": [
    "cancerdata = pd.read_csv('../../shared/datasets/cancer.csv')\n",
    "\n",
    "\n",
    "\n"
   ]
  },
  {
   "cell_type": "code",
   "execution_count": null,
   "metadata": {
    "slideshow": {
     "slide_type": "subslide"
    }
   },
   "outputs": [],
   "source": [
    "# this is a simple classifier that we constructed in the notebook for Lesson12\n",
    "\n",
    "\n",
    "\n",
    "\n",
    "\n",
    "\n",
    "\n",
    "\n"
   ]
  },
  {
   "cell_type": "markdown",
   "metadata": {
    "slideshow": {
     "slide_type": "subslide"
    }
   },
   "source": [
    "**We will \"wrap\" our classifier as a task done by a new function** which we will name `predict_tumor_class()`"
   ]
  },
  {
   "cell_type": "markdown",
   "metadata": {
    "slideshow": {
     "slide_type": "fragment"
    }
   },
   "source": [
    "+ inputs: two numbers: `marginal_adhesion` and `clump_thickness`\n",
    "+ output: one number: 0 if we predict the tumor to be benign, 1 otherwise"
   ]
  },
  {
   "cell_type": "markdown",
   "metadata": {
    "slideshow": {
     "slide_type": "subslide"
    }
   },
   "source": [
    "`Z = predict_tumor_class( X, Y )`\n",
    "\n",
    "where\n",
    "+ X = marginal adhesion value\n",
    "+ Y = clump thickness value\n",
    "+ Z = the prediction that your decision tree classifier makes for the given values of X and Y"
   ]
  },
  {
   "cell_type": "code",
   "execution_count": null,
   "metadata": {
    "slideshow": {
     "slide_type": "subslide"
    }
   },
   "outputs": [],
   "source": [
    "\n",
    "\n",
    "\n",
    "\n",
    "\n"
   ]
  },
  {
   "cell_type": "code",
   "execution_count": null,
   "metadata": {
    "slideshow": {
     "slide_type": "slide"
    }
   },
   "outputs": [],
   "source": []
  },
  {
   "cell_type": "code",
   "execution_count": null,
   "metadata": {},
   "outputs": [],
   "source": []
  },
  {
   "cell_type": "code",
   "execution_count": null,
   "metadata": {},
   "outputs": [],
   "source": []
  },
  {
   "cell_type": "markdown",
   "metadata": {
    "slideshow": {
     "slide_type": "skip"
    }
   },
   "source": [
    "#### Miscellaneous Jupyter Notebook Tips\n",
    "\n",
    "To increase the indentation of an entire block of code: highlight the code, then\n",
    "+ Ctrl + ]\n",
    "\n",
    "To decrease indentation:\n",
    "+ Ctrl + [\n",
    "\n",
    "To comment/uncomment an entire block of code:\n",
    "+ Ctrl + /"
   ]
  }
 ],
 "metadata": {
  "celltoolbar": "Slideshow",
  "kernelspec": {
   "display_name": "Python 3",
   "language": "python",
   "name": "python3"
  },
  "language_info": {
   "codemirror_mode": {
    "name": "ipython",
    "version": 3
   },
   "file_extension": ".py",
   "mimetype": "text/x-python",
   "name": "python",
   "nbconvert_exporter": "python",
   "pygments_lexer": "ipython3",
   "version": "3.7.6"
  }
 },
 "nbformat": 4,
 "nbformat_minor": 2
}
