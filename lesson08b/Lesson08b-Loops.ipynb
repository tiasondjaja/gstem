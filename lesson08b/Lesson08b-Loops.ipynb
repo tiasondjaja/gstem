{
 "cells": [
  {
   "cell_type": "markdown",
   "metadata": {
    "slideshow": {
     "slide_type": "slide"
    }
   },
   "source": [
    "# Lesson 8b: Loops\n",
    "\n",
    "Today:\n",
    "1. Loops\n",
    "    + Understanding the `for` loop\n",
    "        + Tracing how variables change values during loops\n",
    "    + Accessing entries of a data frame using loops\n",
    "2. Application to classification"
   ]
  },
  {
   "cell_type": "code",
   "execution_count": null,
   "metadata": {},
   "outputs": [],
   "source": [
    "import pandas as pd\n",
    "import numpy as np\n",
    "import seaborn as sns"
   ]
  },
  {
   "cell_type": "code",
   "execution_count": null,
   "metadata": {},
   "outputs": [],
   "source": []
  },
  {
   "cell_type": "code",
   "execution_count": null,
   "metadata": {},
   "outputs": [],
   "source": []
  },
  {
   "cell_type": "code",
   "execution_count": null,
   "metadata": {},
   "outputs": [],
   "source": []
  },
  {
   "cell_type": "code",
   "execution_count": null,
   "metadata": {},
   "outputs": [],
   "source": []
  },
  {
   "cell_type": "markdown",
   "metadata": {
    "slideshow": {
     "slide_type": "-"
    }
   },
   "source": [
    "## 1. Loops"
   ]
  },
  {
   "cell_type": "markdown",
   "metadata": {
    "slideshow": {
     "slide_type": "subslide"
    }
   },
   "source": [
    "### 1.1. Understanding `for` loops\n",
    "\n",
    "To repeat TASK for each VALUE in the list LIST\n",
    "\n",
    "    for( VALUE in LIST ):\n",
    "        TASKS"
   ]
  },
  {
   "cell_type": "code",
   "execution_count": null,
   "metadata": {},
   "outputs": [],
   "source": [
    "\n",
    "\n"
   ]
  },
  {
   "cell_type": "code",
   "execution_count": null,
   "metadata": {},
   "outputs": [],
   "source": []
  },
  {
   "cell_type": "markdown",
   "metadata": {
    "slideshow": {
     "slide_type": "subslide"
    }
   },
   "source": [
    "**Example**\n",
    "\n",
    "Suppose we want to display the text:  \n",
    "\n",
    "\"1 squared is 1\"\n",
    "\n",
    "\"2 squared is 4\"\n",
    "\n",
    "... up to\n",
    "\n",
    "\"20 squared is 400\""
   ]
  },
  {
   "cell_type": "code",
   "execution_count": null,
   "metadata": {
    "slideshow": {
     "slide_type": "subslide"
    }
   },
   "outputs": [],
   "source": [
    "\n",
    "\n",
    "\n"
   ]
  },
  {
   "cell_type": "markdown",
   "metadata": {
    "slideshow": {
     "slide_type": "subslide"
    }
   },
   "source": [
    "### Activity\n",
    "\n",
    "Suppose we want to display the text:  \n",
    "\n",
    "\"1 cubed is 1\"\n",
    "\n",
    "\"2 cubed is 8\"\n",
    "\n",
    "\"3 cubed is 27\"\n",
    "\n",
    "... up to\n",
    "\n",
    "\"20 cubed is 8000\"\n",
    "\n",
    "**Write a while loop that accomplishes this task.**"
   ]
  },
  {
   "cell_type": "code",
   "execution_count": null,
   "metadata": {},
   "outputs": [],
   "source": [
    "\n",
    "\n"
   ]
  },
  {
   "cell_type": "markdown",
   "metadata": {
    "slideshow": {
     "slide_type": "subslide"
    }
   },
   "source": [
    "### Activity\n",
    "\n",
    "Suppose we want to display the text:  \n",
    "\n",
    "\"1 cubed is 1\"\n",
    "\n",
    "\"3 cubed is 27\"\n",
    "\n",
    "\"5 cubed is 125\"\n",
    "\n",
    "... up to\n",
    "\n",
    "\"25 cubed is 15625\"\n",
    "\n",
    "**Write a while loop that accomplishes this task.**"
   ]
  },
  {
   "cell_type": "code",
   "execution_count": null,
   "metadata": {},
   "outputs": [],
   "source": [
    "\n",
    "\n"
   ]
  },
  {
   "cell_type": "code",
   "execution_count": null,
   "metadata": {
    "scrolled": true,
    "slideshow": {
     "slide_type": "subslide"
    }
   },
   "outputs": [],
   "source": [
    "\n",
    "\n",
    "\n"
   ]
  },
  {
   "cell_type": "code",
   "execution_count": null,
   "metadata": {},
   "outputs": [],
   "source": [
    "\n",
    "\n"
   ]
  },
  {
   "cell_type": "code",
   "execution_count": null,
   "metadata": {},
   "outputs": [],
   "source": [
    "\n",
    "\n"
   ]
  },
  {
   "cell_type": "code",
   "execution_count": null,
   "metadata": {},
   "outputs": [],
   "source": [
    "\n",
    "\n"
   ]
  },
  {
   "cell_type": "code",
   "execution_count": null,
   "metadata": {},
   "outputs": [],
   "source": []
  },
  {
   "cell_type": "markdown",
   "metadata": {
    "slideshow": {
     "slide_type": "subslide"
    }
   },
   "source": [
    "**Example**\n",
    "\n",
    "Recall our `calculate_bill()` function from Lesson 8, reproduced below."
   ]
  },
  {
   "cell_type": "code",
   "execution_count": null,
   "metadata": {},
   "outputs": [],
   "source": [
    "def calculate_bill( orders, tip_percent ):\n",
    "    \n",
    "    subtotal = sum( orders )\n",
    "    \n",
    "    tip = subtotal * tip_percent\n",
    "    tax = subtotal * 0.08875\n",
    "    \n",
    "    total = subtotal + tip + tax\n",
    "    \n",
    "    return( total )"
   ]
  },
  {
   "cell_type": "markdown",
   "metadata": {
    "slideshow": {
     "slide_type": "subslide"
    }
   },
   "source": [
    "Suppose that we would like to compute possible bills for a few different tip percentages, from 10\\%, 11%, 12%, ..., to 25\\%, if we order the following items:\n",
    "+ an \\$7 appetizer\n",
    "+ a \\$15 entree\n",
    "+ a \\$17 entree\n",
    "+ two \\$6 beverages."
   ]
  },
  {
   "cell_type": "code",
   "execution_count": null,
   "metadata": {},
   "outputs": [],
   "source": []
  },
  {
   "cell_type": "markdown",
   "metadata": {
    "slideshow": {
     "slide_type": "slide"
    }
   },
   "source": [
    "### 1.2. Accessing entries of a data frame during loops\n",
    "\n",
    "Suppose that we would like to store the values that we computed during loops into a table.\n",
    "\n",
    "**Example**\n",
    "\n",
    "Create a data frame called `squares` which has 20 rows and 2 columns:\n",
    "\n",
    "<table>\n",
    "    <tr>\n",
    "        <th>n</th>\n",
    "        <th>n_squared</th>\n",
    "    </tr>    \n",
    "    <tr>\n",
    "        <td>1</td>\n",
    "        <td>1</td>\n",
    "    </tr>    \n",
    "    <tr>\n",
    "        <td>2</td>\n",
    "        <td>4</td>\n",
    "    </tr>    \n",
    "    <tr>\n",
    "        <td>3</td>\n",
    "        <td>9</td>\n",
    "    </tr>    \n",
    "    <tr>\n",
    "        <td>...</td>\n",
    "        <td>...</td>\n",
    "    </tr>    \n",
    "    <tr>\n",
    "        <td>19</td>\n",
    "        <td>361</td>\n",
    "    </tr>\n",
    "    <tr>\n",
    "        <td>20</td>\n",
    "        <td>400</td>\n",
    "    </tr>\n",
    "</table>"
   ]
  },
  {
   "cell_type": "code",
   "execution_count": null,
   "metadata": {
    "slideshow": {
     "slide_type": "subslide"
    }
   },
   "outputs": [],
   "source": [
    "\n",
    "\n",
    "\n"
   ]
  },
  {
   "cell_type": "code",
   "execution_count": null,
   "metadata": {},
   "outputs": [],
   "source": [
    "squares\n",
    "\n",
    "# fill in the empty data frame row by row\n",
    "\n",
    "\n",
    "\n"
   ]
  },
  {
   "cell_type": "code",
   "execution_count": null,
   "metadata": {},
   "outputs": [],
   "source": [
    "\n",
    "\n",
    "\n",
    "\n"
   ]
  },
  {
   "cell_type": "code",
   "execution_count": null,
   "metadata": {},
   "outputs": [],
   "source": []
  },
  {
   "cell_type": "code",
   "execution_count": null,
   "metadata": {},
   "outputs": [],
   "source": [
    "# note: the above can be done without a for loop\n",
    "#  using a method we learned earlier in the semester\n",
    "\n",
    "\n",
    "\n",
    "\n",
    "\n",
    "\n",
    "\n",
    "# so why did we use a for loop?  \n",
    "#  There are similar tasks that cannot be done using this more straightforward method\n",
    "#   See the next example"
   ]
  },
  {
   "cell_type": "markdown",
   "metadata": {},
   "source": [
    "**Activity**\n",
    "\n",
    "Last class, we defined a new function called `my_function2`, which\n",
    "+ takes three numbers as inputs: `a`, `b`, `c`, and\n",
    "+ if `a` is strictly greater than zero, then it returns as an output `b + c`;\n",
    "+ otherwise, if `a` is zero or negative, then it returns as an output `b - c`.\n",
    "\n",
    "We want to record the outputs of `my_function2` for various values of a, b, and c in the data frame called `records` below:\n",
    "\n",
    "<table>\n",
    "    <tr>\n",
    "        <th>a</th>\n",
    "        <th>b</th>\n",
    "        <th>c</th>\n",
    "        <th>output</th>\n",
    "    </tr>\n",
    "    <tr>\n",
    "        <td>3</td>\n",
    "        <td>1</td>\n",
    "        <td>3</td>\n",
    "        <td> </td>\n",
    "    </tr>\n",
    "    <tr>\n",
    "        <td>-2</td>\n",
    "        <td>10</td>\n",
    "        <td>3</td>\n",
    "        <td> </td>\n",
    "    </tr>\n",
    "    <tr>\n",
    "        <td>1</td>\n",
    "        <td>4</td>\n",
    "        <td>9</td>\n",
    "        <td> </td>\n",
    "    </tr>\n",
    "    <tr>\n",
    "        <td>0</td>\n",
    "        <td>4</td>\n",
    "        <td>8</td>\n",
    "        <td> </td>\n",
    "    </tr>\n",
    "</table>\n"
   ]
  },
  {
   "cell_type": "code",
   "execution_count": null,
   "metadata": {},
   "outputs": [],
   "source": [
    "# do not modify this cell\n",
    "\n",
    "records = pd.DataFrame( {'a': [3, -2, 1, 0],\n",
    "                         'b': [1, 10, 4, 4],\n",
    "                         'c': [3, 3, 9, 8],\n",
    "                         'output': [0, 0, 0, 0]} )\n",
    "records"
   ]
  },
  {
   "cell_type": "code",
   "execution_count": null,
   "metadata": {},
   "outputs": [],
   "source": [
    "# copy and paste from lesson 8\n",
    "def my_function2 ( a, b, c ):\n",
    "    if( a > 0 ):\n",
    "        output = b + c\n",
    "    else:\n",
    "        output = b - c\n",
    "    return(output)"
   ]
  },
  {
   "cell_type": "code",
   "execution_count": null,
   "metadata": {},
   "outputs": [],
   "source": [
    "# filling in the output column in the records data frame \"by hand\" / row by row\n",
    "## this is fine because we have only four rows!\n",
    "## we probably don't want to do this if we have hundreds of rows\n",
    "\n",
    "\n",
    "\n",
    "\n",
    "\n",
    "\n",
    "\n",
    "\n",
    "\n"
   ]
  },
  {
   "cell_type": "code",
   "execution_count": null,
   "metadata": {},
   "outputs": [],
   "source": [
    "# do not modify this cell\n",
    "\n",
    "records = pd.DataFrame( {'a': [3, -2, 1, 0],\n",
    "                         'b': [1, 10, 4, 4],\n",
    "                         'c': [3, 3, 9, 8],\n",
    "                         'output': [0, 0, 0, 0]} )\n",
    "records"
   ]
  },
  {
   "cell_type": "code",
   "execution_count": null,
   "metadata": {},
   "outputs": [],
   "source": [
    "\n",
    "\n",
    "\n"
   ]
  },
  {
   "cell_type": "code",
   "execution_count": null,
   "metadata": {},
   "outputs": [],
   "source": [
    "\n",
    "\n",
    "\n"
   ]
  },
  {
   "cell_type": "code",
   "execution_count": null,
   "metadata": {},
   "outputs": [],
   "source": [
    "\n",
    "\n",
    "\n"
   ]
  },
  {
   "cell_type": "markdown",
   "metadata": {},
   "source": [
    "**Example**\n",
    "\n",
    "Suppose that we would like to compute possible bills for a few different tip percentages, from 10\\%, 11%, 12%, ..., to 25\\%, if we order the following items:\n",
    "+ an \\$7 appetizer\n",
    "+ a \\$15 entree\n",
    "+ a \\$17 entree\n",
    "+ two \\$6 beverage.\n",
    "\n",
    "We would like to create a data frame with 2 columns and one row for each possible tip percentages.  The first column is the tip percentage itself and the second column is the total bill:\n",
    "\n",
    "<table>\n",
    "    <tr>\n",
    "        <th>tip_percentage</th>\n",
    "        <th>total</th>\n",
    "    </tr>    \n",
    "    <tr>\n",
    "        <td>10</td>\n",
    "        <td>60.62625</td>\n",
    "    </tr>    \n",
    "    <tr>\n",
    "        <td>11</td>\n",
    "        <td>61.64625</td>\n",
    "    </tr>    \n",
    "    <tr>\n",
    "        <td>12</td>\n",
    "        <td>62.15625</td>\n",
    "    </tr>    \n",
    "    <tr>\n",
    "        <td>...</td>\n",
    "        <td>...</td>\n",
    "    </tr>\n",
    "    <tr>\n",
    "        <td>24</td>\n",
    "        <td>67.76625</td>\n",
    "    </tr>\n",
    "    <tr>\n",
    "        <td>25</td>\n",
    "        <td>68.27625</td>\n",
    "    </tr>\n",
    "</table>\n",
    "\n"
   ]
  },
  {
   "cell_type": "code",
   "execution_count": null,
   "metadata": {},
   "outputs": [],
   "source": [
    "\n",
    "\n",
    "\n"
   ]
  },
  {
   "cell_type": "code",
   "execution_count": null,
   "metadata": {},
   "outputs": [],
   "source": []
  },
  {
   "cell_type": "code",
   "execution_count": null,
   "metadata": {},
   "outputs": [],
   "source": []
  },
  {
   "cell_type": "code",
   "execution_count": null,
   "metadata": {},
   "outputs": [],
   "source": []
  },
  {
   "cell_type": "markdown",
   "metadata": {
    "slideshow": {
     "slide_type": "subslide"
    }
   },
   "source": [
    "**Exercise**\n",
    "\n",
    "We defined a new function called `compund_interest()` which takes three inputs\n",
    "+ `initial_deposit`: the amount you deposited in the savings account\n",
    "+ `interest_rate`: the annual interest rate of the account (in decimal)\n",
    "+ `num_years`: the number of years the initial deposit stays in the account\n",
    "\n",
    "and ouputs/returns the total amount in the savings ccount after the specified number of years.  (The function definition is included in the code cell below.)\n",
    "\n",
    "Suppose that you invested 1000 dollars in a savings account that has a 2% annual interest rate that is added annually.\n",
    "\n",
    "Create a data frame called `account` which has \n",
    "+ two columns: `num_years` and `amount`; the `amount` column will store the amount in the account for the given number of years, from year 0 to year 30.\n",
    "\n",
    "<table>\n",
    "    <tr>\n",
    "        <th>num_years</th>\n",
    "        <th>amount</th>\n",
    "    </tr>    \n",
    "    <tr>\n",
    "        <td>0</td>\n",
    "        <td>1000</td>\n",
    "    </tr>    \n",
    "    <tr>\n",
    "        <td>1</td>\n",
    "        <td>1020</td>\n",
    "    </tr>    \n",
    "    <tr>\n",
    "        <td>2</td>\n",
    "        <td>1040.4</td>\n",
    "    </tr>    \n",
    "    <tr>\n",
    "        <td>...</td>\n",
    "        <td>...</td>\n",
    "    </tr>\n",
    "    <tr>\n",
    "        <td>29</td>\n",
    "        <td>1775.84469029741 </td>\n",
    "    </tr>\n",
    "    <tr>\n",
    "        <td>30</td>\n",
    "        <td>1811.36158410335</td>\n",
    "    </tr>\n",
    "</table>"
   ]
  },
  {
   "cell_type": "code",
   "execution_count": null,
   "metadata": {},
   "outputs": [],
   "source": [
    "\n",
    "\n",
    "\n"
   ]
  },
  {
   "cell_type": "code",
   "execution_count": null,
   "metadata": {
    "slideshow": {
     "slide_type": "subslide"
    }
   },
   "outputs": [],
   "source": [
    "\n",
    "\n",
    "\n"
   ]
  },
  {
   "cell_type": "code",
   "execution_count": null,
   "metadata": {},
   "outputs": [],
   "source": [
    "\n",
    "\n"
   ]
  },
  {
   "cell_type": "code",
   "execution_count": null,
   "metadata": {},
   "outputs": [],
   "source": [
    "\n",
    "\n"
   ]
  },
  {
   "cell_type": "markdown",
   "metadata": {
    "slideshow": {
     "slide_type": "slide"
    }
   },
   "source": [
    "## 2. Application to classification"
   ]
  },
  {
   "cell_type": "markdown",
   "metadata": {},
   "source": [
    "We have created a function called `predict_tumor_class()`:\n",
    "\n",
    "`OUTPUT = predict_tumor_class( INPUT1, INPUT2 )`\n",
    "\n",
    "where\n",
    "+ INPUT1 = clump thickness value\n",
    "+ INPUT2 = marginal adhesion value\n",
    "+ OUTPUT = the prediction that your decision tree classifier makes for the given values of INPUT1 and INPUT2\n",
    "\n",
    "Recall that our classifier was constructed based on our observation of the training dataset.\n",
    "+ The original cancer dataset has 638 rows.\n",
    "+ We take the first 300 for our training dataset and the last 383 for our test dataset"
   ]
  },
  {
   "cell_type": "code",
   "execution_count": null,
   "metadata": {
    "slideshow": {
     "slide_type": "subslide"
    }
   },
   "outputs": [],
   "source": [
    "cancerdata = pd.read_csv('../../shared/datasets/cancer.csv')\n",
    "cancerdata.shape\n",
    "\n",
    "# as we did in lesson 6, split into training and test datasets:\n",
    "#      split the cancer dataset into two: training data and test data \n",
    "X = cancerdata.iloc[ :  ,  1:10  ]\n",
    "Y = cancerdata['Class']\n",
    "\n",
    "from sklearn.model_selection import train_test_split\n",
    "\n",
    "X_train, X_test,  Y_train, Y_test = train_test_split( X, Y, test_size = 0.3 , random_state = 1110 )\n",
    "\n",
    "# explore the training dataset\n",
    "\n",
    "# combine X_train and Y_train into one dataset \n",
    "#  concatenate the Y_train dataset as another column on X_train\n",
    "training_data = pd.concat( [ X_train, Y_train ], axis = 1  )\n",
    "\n",
    "training_data.head()"
   ]
  },
  {
   "cell_type": "code",
   "execution_count": null,
   "metadata": {},
   "outputs": [],
   "source": [
    "# here is the classifier from Lesson 8 (copy and paste)\n",
    "\n",
    "\n"
   ]
  },
  {
   "cell_type": "code",
   "execution_count": null,
   "metadata": {},
   "outputs": [],
   "source": [
    "# check that the function was defined correctly \n",
    "#  by using that function for some arbitrary input numbers\n",
    "\n",
    "\n",
    "\n",
    "\n",
    "\n"
   ]
  },
  {
   "cell_type": "code",
   "execution_count": null,
   "metadata": {},
   "outputs": [],
   "source": [
    "# predict the class of the first four rows of the test dataset,\n",
    "\n",
    "\n",
    "\n",
    "\n",
    "\n"
   ]
  },
  {
   "cell_type": "code",
   "execution_count": null,
   "metadata": {
    "scrolled": true
   },
   "outputs": [],
   "source": [
    "# create an empty data frame, 1 column, ...  rows\n",
    "\n",
    "\n",
    "\n"
   ]
  },
  {
   "cell_type": "code",
   "execution_count": null,
   "metadata": {},
   "outputs": [],
   "source": []
  },
  {
   "cell_type": "code",
   "execution_count": null,
   "metadata": {},
   "outputs": [],
   "source": []
  },
  {
   "cell_type": "code",
   "execution_count": null,
   "metadata": {},
   "outputs": [],
   "source": []
  },
  {
   "cell_type": "code",
   "execution_count": null,
   "metadata": {},
   "outputs": [],
   "source": []
  },
  {
   "cell_type": "code",
   "execution_count": null,
   "metadata": {},
   "outputs": [],
   "source": []
  }
 ],
 "metadata": {
  "celltoolbar": "Slideshow",
  "kernelspec": {
   "display_name": "Python 3",
   "language": "python",
   "name": "python3"
  },
  "language_info": {
   "codemirror_mode": {
    "name": "ipython",
    "version": 3
   },
   "file_extension": ".py",
   "mimetype": "text/x-python",
   "name": "python",
   "nbconvert_exporter": "python",
   "pygments_lexer": "ipython3",
   "version": "3.7.6"
  }
 },
 "nbformat": 4,
 "nbformat_minor": 2
}
